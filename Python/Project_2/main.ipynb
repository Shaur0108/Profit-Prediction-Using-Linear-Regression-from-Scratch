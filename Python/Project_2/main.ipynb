{
 "cells": [
  {
   "cell_type": "markdown",
   "id": "dbb6a6a9-68a1-4fc6-a5cb-7c38eb299346",
   "metadata": {},
   "source": [
    "#  **Profit Estimation Using Manual Multilinear Regression**"
   ]
  },
  {
   "cell_type": "code",
   "execution_count": 226,
   "id": "debfbf4f-1b31-43e1-99ad-16072f8c5877",
   "metadata": {},
   "outputs": [],
   "source": [
    "import numpy as np \n",
    "import pandas as pd \n",
    "import matplotlib.pyplot as plt"
   ]
  },
  {
   "cell_type": "code",
   "execution_count": 227,
   "id": "cd149597-8d58-405a-8b57-0a2501371d23",
   "metadata": {},
   "outputs": [
    {
     "data": {
      "text/html": [
       "<div>\n",
       "<style scoped>\n",
       "    .dataframe tbody tr th:only-of-type {\n",
       "        vertical-align: middle;\n",
       "    }\n",
       "\n",
       "    .dataframe tbody tr th {\n",
       "        vertical-align: top;\n",
       "    }\n",
       "\n",
       "    .dataframe thead th {\n",
       "        text-align: right;\n",
       "    }\n",
       "</style>\n",
       "<table border=\"1\" class=\"dataframe\">\n",
       "  <thead>\n",
       "    <tr style=\"text-align: right;\">\n",
       "      <th></th>\n",
       "      <th>R&amp;D Spend</th>\n",
       "      <th>Administration</th>\n",
       "      <th>Marketing Spend</th>\n",
       "      <th>Profit</th>\n",
       "    </tr>\n",
       "  </thead>\n",
       "  <tbody>\n",
       "    <tr>\n",
       "      <th>count</th>\n",
       "      <td>50.000000</td>\n",
       "      <td>50.000000</td>\n",
       "      <td>50.000000</td>\n",
       "      <td>50.000000</td>\n",
       "    </tr>\n",
       "    <tr>\n",
       "      <th>mean</th>\n",
       "      <td>73721.715600</td>\n",
       "      <td>121344.739600</td>\n",
       "      <td>211025.197800</td>\n",
       "      <td>112012.739200</td>\n",
       "    </tr>\n",
       "    <tr>\n",
       "      <th>std</th>\n",
       "      <td>45902.256482</td>\n",
       "      <td>28017.802755</td>\n",
       "      <td>122290.310726</td>\n",
       "      <td>40306.180338</td>\n",
       "    </tr>\n",
       "    <tr>\n",
       "      <th>min</th>\n",
       "      <td>0.100000</td>\n",
       "      <td>51283.240000</td>\n",
       "      <td>0.100000</td>\n",
       "      <td>14681.500000</td>\n",
       "    </tr>\n",
       "    <tr>\n",
       "      <th>25%</th>\n",
       "      <td>39936.470000</td>\n",
       "      <td>103730.975000</td>\n",
       "      <td>129300.232500</td>\n",
       "      <td>90139.002500</td>\n",
       "    </tr>\n",
       "    <tr>\n",
       "      <th>50%</th>\n",
       "      <td>73051.180000</td>\n",
       "      <td>122699.895000</td>\n",
       "      <td>212716.340000</td>\n",
       "      <td>107978.290000</td>\n",
       "    </tr>\n",
       "    <tr>\n",
       "      <th>75%</th>\n",
       "      <td>101602.900000</td>\n",
       "      <td>144842.280000</td>\n",
       "      <td>299469.185000</td>\n",
       "      <td>139766.077500</td>\n",
       "    </tr>\n",
       "    <tr>\n",
       "      <th>max</th>\n",
       "      <td>165349.300000</td>\n",
       "      <td>182645.660000</td>\n",
       "      <td>471784.200000</td>\n",
       "      <td>192261.930000</td>\n",
       "    </tr>\n",
       "  </tbody>\n",
       "</table>\n",
       "</div>"
      ],
      "text/plain": [
       "           R&D Spend  Administration  Marketing Spend         Profit\n",
       "count      50.000000       50.000000        50.000000      50.000000\n",
       "mean    73721.715600   121344.739600    211025.197800  112012.739200\n",
       "std     45902.256482    28017.802755    122290.310726   40306.180338\n",
       "min         0.100000    51283.240000         0.100000   14681.500000\n",
       "25%     39936.470000   103730.975000    129300.232500   90139.002500\n",
       "50%     73051.180000   122699.895000    212716.340000  107978.290000\n",
       "75%    101602.900000   144842.280000    299469.185000  139766.077500\n",
       "max    165349.300000   182645.660000    471784.200000  192261.930000"
      ]
     },
     "execution_count": 227,
     "metadata": {},
     "output_type": "execute_result"
    }
   ],
   "source": [
    "df = pd.read_csv(\"50_Startups_dataset.csv\",index_col = 0)\n",
    "df.describe()\n"
   ]
  },
  {
   "cell_type": "code",
   "execution_count": 228,
   "id": "472dcda2-1d38-45a3-b502-bd0c7aa72c6d",
   "metadata": {},
   "outputs": [
    {
     "name": "stdout",
     "output_type": "stream",
     "text": [
      "<class 'pandas.core.frame.DataFrame'>\n",
      "Index: 50 entries, 0 to 49\n",
      "Data columns (total 5 columns):\n",
      " #   Column           Non-Null Count  Dtype  \n",
      "---  ------           --------------  -----  \n",
      " 0   R&D Spend        50 non-null     float64\n",
      " 1   Administration   50 non-null     float64\n",
      " 2   Marketing Spend  50 non-null     float64\n",
      " 3   State            50 non-null     object \n",
      " 4   Profit           50 non-null     float64\n",
      "dtypes: float64(4), object(1)\n",
      "memory usage: 2.3+ KB\n"
     ]
    }
   ],
   "source": [
    "df.info()"
   ]
  },
  {
   "cell_type": "code",
   "execution_count": 229,
   "id": "8160a92f-17a1-469c-b5fe-47c513893c77",
   "metadata": {},
   "outputs": [
    {
     "data": {
      "text/plain": [
       "0"
      ]
     },
     "execution_count": 229,
     "metadata": {},
     "output_type": "execute_result"
    }
   ],
   "source": [
    "df.duplicated().sum()"
   ]
  },
  {
   "cell_type": "code",
   "execution_count": 230,
   "id": "2c0a3793-72af-452f-8de4-2d5977636441",
   "metadata": {},
   "outputs": [
    {
     "data": {
      "text/plain": [
       "<Axes: >"
      ]
     },
     "execution_count": 230,
     "metadata": {},
     "output_type": "execute_result"
    },
    {
     "data": {
      "image/png": "[encoded data removed]",
      "text/plain": [
       "<Figure size 640x480 with 1 Axes>"
      ]
     },
     "metadata": {},
     "output_type": "display_data"
    }
   ],
   "source": [
    "df.plot(kind=\"box\")\n"
   ]
  },
  {
   "cell_type": "code",
   "execution_count": 231,
   "id": "3b173c9f-a1d5-46c2-8aa3-e3f4d13038fd",
   "metadata": {},
   "outputs": [
    {
     "data": {
      "text/html": [
       "<div>\n",
       "<style scoped>\n",
       "    .dataframe tbody tr th:only-of-type {\n",
       "        vertical-align: middle;\n",
       "    }\n",
       "\n",
       "    .dataframe tbody tr th {\n",
       "        vertical-align: top;\n",
       "    }\n",
       "\n",
       "    .dataframe thead th {\n",
       "        text-align: right;\n",
       "    }\n",
       "</style>\n",
       "<table border=\"1\" class=\"dataframe\">\n",
       "  <thead>\n",
       "    <tr style=\"text-align: right;\">\n",
       "      <th></th>\n",
       "      <th>R&amp;D Spend</th>\n",
       "      <th>Administration</th>\n",
       "      <th>Marketing Spend</th>\n",
       "      <th>Profit</th>\n",
       "    </tr>\n",
       "  </thead>\n",
       "  <tbody>\n",
       "    <tr>\n",
       "      <th>R&amp;D Spend</th>\n",
       "      <td>1.000000</td>\n",
       "      <td>0.241955</td>\n",
       "      <td>0.724248</td>\n",
       "      <td>0.972900</td>\n",
       "    </tr>\n",
       "    <tr>\n",
       "      <th>Administration</th>\n",
       "      <td>0.241955</td>\n",
       "      <td>1.000000</td>\n",
       "      <td>-0.032154</td>\n",
       "      <td>0.200717</td>\n",
       "    </tr>\n",
       "    <tr>\n",
       "      <th>Marketing Spend</th>\n",
       "      <td>0.724248</td>\n",
       "      <td>-0.032154</td>\n",
       "      <td>1.000000</td>\n",
       "      <td>0.747766</td>\n",
       "    </tr>\n",
       "    <tr>\n",
       "      <th>Profit</th>\n",
       "      <td>0.972900</td>\n",
       "      <td>0.200717</td>\n",
       "      <td>0.747766</td>\n",
       "      <td>1.000000</td>\n",
       "    </tr>\n",
       "  </tbody>\n",
       "</table>\n",
       "</div>"
      ],
      "text/plain": [
       "                 R&D Spend  Administration  Marketing Spend    Profit\n",
       "R&D Spend         1.000000        0.241955         0.724248  0.972900\n",
       "Administration    0.241955        1.000000        -0.032154  0.200717\n",
       "Marketing Spend   0.724248       -0.032154         1.000000  0.747766\n",
       "Profit            0.972900        0.200717         0.747766  1.000000"
      ]
     },
     "execution_count": 231,
     "metadata": {},
     "output_type": "execute_result"
    }
   ],
   "source": [
    "\n",
    "df[['R&D Spend', 'Administration','Marketing Spend','Profit']].corr()"
   ]
  },
  {
   "cell_type": "code",
   "execution_count": 232,
   "id": "1411ecda-4e27-44c6-aecf-abb6efb335e6",
   "metadata": {},
   "outputs": [
    {
     "data": {
      "text/html": [
       "<div>\n",
       "<style scoped>\n",
       "    .dataframe tbody tr th:only-of-type {\n",
       "        vertical-align: middle;\n",
       "    }\n",
       "\n",
       "    .dataframe tbody tr th {\n",
       "        vertical-align: top;\n",
       "    }\n",
       "\n",
       "    .dataframe thead th {\n",
       "        text-align: right;\n",
       "    }\n",
       "</style>\n",
       "<table border=\"1\" class=\"dataframe\">\n",
       "  <thead>\n",
       "    <tr style=\"text-align: right;\">\n",
       "      <th></th>\n",
       "      <th>R&amp;D Spend</th>\n",
       "      <th>Administration</th>\n",
       "      <th>Marketing Spend</th>\n",
       "      <th>Profit</th>\n",
       "    </tr>\n",
       "  </thead>\n",
       "  <tbody>\n",
       "    <tr>\n",
       "      <th>count</th>\n",
       "      <td>50.000000</td>\n",
       "      <td>50.000000</td>\n",
       "      <td>50.000000</td>\n",
       "      <td>50.000000</td>\n",
       "    </tr>\n",
       "    <tr>\n",
       "      <th>mean</th>\n",
       "      <td>73721.715600</td>\n",
       "      <td>121344.739600</td>\n",
       "      <td>211025.197800</td>\n",
       "      <td>112012.739200</td>\n",
       "    </tr>\n",
       "    <tr>\n",
       "      <th>std</th>\n",
       "      <td>45902.256482</td>\n",
       "      <td>28017.802755</td>\n",
       "      <td>122290.310726</td>\n",
       "      <td>40306.180338</td>\n",
       "    </tr>\n",
       "    <tr>\n",
       "      <th>min</th>\n",
       "      <td>0.100000</td>\n",
       "      <td>51283.240000</td>\n",
       "      <td>0.100000</td>\n",
       "      <td>14681.500000</td>\n",
       "    </tr>\n",
       "    <tr>\n",
       "      <th>25%</th>\n",
       "      <td>39936.470000</td>\n",
       "      <td>103730.975000</td>\n",
       "      <td>129300.232500</td>\n",
       "      <td>90139.002500</td>\n",
       "    </tr>\n",
       "    <tr>\n",
       "      <th>50%</th>\n",
       "      <td>73051.180000</td>\n",
       "      <td>122699.895000</td>\n",
       "      <td>212716.340000</td>\n",
       "      <td>107978.290000</td>\n",
       "    </tr>\n",
       "    <tr>\n",
       "      <th>75%</th>\n",
       "      <td>101602.900000</td>\n",
       "      <td>144842.280000</td>\n",
       "      <td>299469.185000</td>\n",
       "      <td>139766.077500</td>\n",
       "    </tr>\n",
       "    <tr>\n",
       "      <th>max</th>\n",
       "      <td>165349.300000</td>\n",
       "      <td>182645.660000</td>\n",
       "      <td>471784.200000</td>\n",
       "      <td>192261.930000</td>\n",
       "    </tr>\n",
       "  </tbody>\n",
       "</table>\n",
       "</div>"
      ],
      "text/plain": [
       "           R&D Spend  Administration  Marketing Spend         Profit\n",
       "count      50.000000       50.000000        50.000000      50.000000\n",
       "mean    73721.715600   121344.739600    211025.197800  112012.739200\n",
       "std     45902.256482    28017.802755    122290.310726   40306.180338\n",
       "min         0.100000    51283.240000         0.100000   14681.500000\n",
       "25%     39936.470000   103730.975000    129300.232500   90139.002500\n",
       "50%     73051.180000   122699.895000    212716.340000  107978.290000\n",
       "75%    101602.900000   144842.280000    299469.185000  139766.077500\n",
       "max    165349.300000   182645.660000    471784.200000  192261.930000"
      ]
     },
     "execution_count": 232,
     "metadata": {},
     "output_type": "execute_result"
    }
   ],
   "source": [
    "df.describe()"
   ]
  },
  {
   "cell_type": "code",
   "execution_count": 233,
   "id": "11d17851-2a54-42e9-82f6-22f012cc872e",
   "metadata": {},
   "outputs": [
    {
     "name": "stdout",
     "output_type": "stream",
     "text": [
      "214206.69000000003 15698.389999999985\n"
     ]
    }
   ],
   "source": [
    "\n",
    "IQR = df.Profit.quantile(0.75) - df.Profit.quantile(0.25)\n",
    "upper_fence = df.Profit.quantile(0.75) + 1.5*IQR\n",
    "lower_fence = df.Profit.quantile(0.25) - 1.5*IQR\n",
    "print(upper_fence, lower_fence)"
   ]
  },
  {
   "cell_type": "code",
   "execution_count": 234,
   "id": "09faa284-e061-440b-9781-e9031021596b",
   "metadata": {},
   "outputs": [
    {
     "data": {
      "text/plain": [
       "<Axes: >"
      ]
     },
     "execution_count": 234,
     "metadata": {},
     "output_type": "execute_result"
    },
    {
     "data": {
      "image/png": "[encoded data removed]",
      "text/plain": [
       "<Figure size 640x480 with 1 Axes>"
      ]
     },
     "metadata": {},
     "output_type": "display_data"
    }
   ],
   "source": [
    "outlier = df.loc[(df['Profit'] < lower_fence)]\n",
    "df = df.drop(outlier.index)\n",
    "df.Profit.plot(kind=\"box\")"
   ]
  },
  {
   "cell_type": "code",
   "execution_count": null,
   "id": "67800fe9-0de1-4cd0-88e0-dc5fb9df26b7",
   "metadata": {},
   "outputs": [],
   "source": []
  },
  {
   "cell_type": "code",
   "execution_count": 235,
   "id": "fad81966-aa92-4a2a-8b6f-3de40fe907a2",
   "metadata": {},
   "outputs": [
    {
     "data": {
      "text/html": [
       "<div>\n",
       "<style scoped>\n",
       "    .dataframe tbody tr th:only-of-type {\n",
       "        vertical-align: middle;\n",
       "    }\n",
       "\n",
       "    .dataframe tbody tr th {\n",
       "        vertical-align: top;\n",
       "    }\n",
       "\n",
       "    .dataframe thead th {\n",
       "        text-align: right;\n",
       "    }\n",
       "</style>\n",
       "<table border=\"1\" class=\"dataframe\">\n",
       "  <thead>\n",
       "    <tr style=\"text-align: right;\">\n",
       "      <th></th>\n",
       "      <th>R&amp;D Spend</th>\n",
       "      <th>Administration</th>\n",
       "      <th>Marketing Spend</th>\n",
       "      <th>State</th>\n",
       "    </tr>\n",
       "  </thead>\n",
       "  <tbody>\n",
       "    <tr>\n",
       "      <th>0</th>\n",
       "      <td>165349.30</td>\n",
       "      <td>136897.90</td>\n",
       "      <td>471784.20</td>\n",
       "      <td>New York</td>\n",
       "    </tr>\n",
       "    <tr>\n",
       "      <th>1</th>\n",
       "      <td>162597.80</td>\n",
       "      <td>151377.69</td>\n",
       "      <td>443898.63</td>\n",
       "      <td>California</td>\n",
       "    </tr>\n",
       "    <tr>\n",
       "      <th>2</th>\n",
       "      <td>153441.61</td>\n",
       "      <td>101145.65</td>\n",
       "      <td>407934.64</td>\n",
       "      <td>Florida</td>\n",
       "    </tr>\n",
       "    <tr>\n",
       "      <th>3</th>\n",
       "      <td>144372.51</td>\n",
       "      <td>118671.95</td>\n",
       "      <td>383199.72</td>\n",
       "      <td>New York</td>\n",
       "    </tr>\n",
       "    <tr>\n",
       "      <th>4</th>\n",
       "      <td>142107.44</td>\n",
       "      <td>91391.87</td>\n",
       "      <td>366168.52</td>\n",
       "      <td>Florida</td>\n",
       "    </tr>\n",
       "  </tbody>\n",
       "</table>\n",
       "</div>"
      ],
      "text/plain": [
       "   R&D Spend  Administration  Marketing Spend       State\n",
       "0  165349.30       136897.90        471784.20    New York\n",
       "1  162597.80       151377.69        443898.63  California\n",
       "2  153441.61       101145.65        407934.64     Florida\n",
       "3  144372.51       118671.95        383199.72    New York\n",
       "4  142107.44        91391.87        366168.52     Florida"
      ]
     },
     "execution_count": 235,
     "metadata": {},
     "output_type": "execute_result"
    }
   ],
   "source": [
    "y = np.array(df['Profit'])\n",
    "df.drop('Profit', axis=1, inplace = True)\n",
    "df.head()"
   ]
  },
  {
   "cell_type": "code",
   "execution_count": 236,
   "id": "3e3a3236-6432-4d15-b623-8022efc28f1a",
   "metadata": {},
   "outputs": [
    {
     "data": {
      "text/plain": [
       "State\n",
       "New York      17\n",
       "California    16\n",
       "Florida       16\n",
       "Name: count, dtype: int64"
      ]
     },
     "execution_count": 236,
     "metadata": {},
     "output_type": "execute_result"
    }
   ],
   "source": [
    "df['State'].value_counts()"
   ]
  },
  {
   "cell_type": "code",
   "execution_count": 238,
   "id": "bac6af98-8696-4743-a99f-75ab649a4dd2",
   "metadata": {},
   "outputs": [
    {
     "data": {
      "text/html": [
       "<div>\n",
       "<style scoped>\n",
       "    .dataframe tbody tr th:only-of-type {\n",
       "        vertical-align: middle;\n",
       "    }\n",
       "\n",
       "    .dataframe tbody tr th {\n",
       "        vertical-align: top;\n",
       "    }\n",
       "\n",
       "    .dataframe thead th {\n",
       "        text-align: right;\n",
       "    }\n",
       "</style>\n",
       "<table border=\"1\" class=\"dataframe\">\n",
       "  <thead>\n",
       "    <tr style=\"text-align: right;\">\n",
       "      <th></th>\n",
       "      <th>R&amp;D Spend</th>\n",
       "      <th>Administration</th>\n",
       "      <th>Marketing Spend</th>\n",
       "      <th>State</th>\n",
       "      <th>New York</th>\n",
       "      <th>California</th>\n",
       "    </tr>\n",
       "  </thead>\n",
       "  <tbody>\n",
       "    <tr>\n",
       "      <th>0</th>\n",
       "      <td>165349.30</td>\n",
       "      <td>136897.90</td>\n",
       "      <td>471784.20</td>\n",
       "      <td>New York</td>\n",
       "      <td>0</td>\n",
       "      <td>0</td>\n",
       "    </tr>\n",
       "    <tr>\n",
       "      <th>1</th>\n",
       "      <td>162597.80</td>\n",
       "      <td>151377.69</td>\n",
       "      <td>443898.63</td>\n",
       "      <td>California</td>\n",
       "      <td>0</td>\n",
       "      <td>0</td>\n",
       "    </tr>\n",
       "    <tr>\n",
       "      <th>2</th>\n",
       "      <td>153441.61</td>\n",
       "      <td>101145.65</td>\n",
       "      <td>407934.64</td>\n",
       "      <td>Florida</td>\n",
       "      <td>0</td>\n",
       "      <td>0</td>\n",
       "    </tr>\n",
       "    <tr>\n",
       "      <th>3</th>\n",
       "      <td>144372.51</td>\n",
       "      <td>118671.95</td>\n",
       "      <td>383199.72</td>\n",
       "      <td>New York</td>\n",
       "      <td>0</td>\n",
       "      <td>0</td>\n",
       "    </tr>\n",
       "    <tr>\n",
       "      <th>4</th>\n",
       "      <td>142107.44</td>\n",
       "      <td>91391.87</td>\n",
       "      <td>366168.52</td>\n",
       "      <td>Florida</td>\n",
       "      <td>0</td>\n",
       "      <td>0</td>\n",
       "    </tr>\n",
       "  </tbody>\n",
       "</table>\n",
       "</div>"
      ],
      "text/plain": [
       "   R&D Spend  Administration  Marketing Spend       State  New York  \\\n",
       "0  165349.30       136897.90        471784.20    New York         0   \n",
       "1  162597.80       151377.69        443898.63  California         0   \n",
       "2  153441.61       101145.65        407934.64     Florida         0   \n",
       "3  144372.51       118671.95        383199.72    New York         0   \n",
       "4  142107.44        91391.87        366168.52     Florida         0   \n",
       "\n",
       "   California  \n",
       "0           0  \n",
       "1           0  \n",
       "2           0  \n",
       "3           0  \n",
       "4           0  "
      ]
     },
     "execution_count": 238,
     "metadata": {},
     "output_type": "execute_result"
    }
   ],
   "source": [
    "Locations = ['New York', 'California']\n",
    "df[Locations] = 0\n",
    "df.head()"
   ]
  },
  {
   "cell_type": "code",
   "execution_count": null,
   "id": "6083d7e3-e5f8-40cc-95c3-f62691fe97cd",
   "metadata": {},
   "outputs": [],
   "source": []
  },
  {
   "cell_type": "code",
   "execution_count": null,
   "id": "e87b8d07-6960-40bb-8ee8-079c3a313332",
   "metadata": {},
   "outputs": [],
   "source": []
  },
  {
   "cell_type": "code",
   "execution_count": 239,
   "id": "f0faa4c9-0e95-4385-b687-189bc6ac2281",
   "metadata": {},
   "outputs": [
    {
     "data": {
      "text/html": [
       "<div>\n",
       "<style scoped>\n",
       "    .dataframe tbody tr th:only-of-type {\n",
       "        vertical-align: middle;\n",
       "    }\n",
       "\n",
       "    .dataframe tbody tr th {\n",
       "        vertical-align: top;\n",
       "    }\n",
       "\n",
       "    .dataframe thead th {\n",
       "        text-align: right;\n",
       "    }\n",
       "</style>\n",
       "<table border=\"1\" class=\"dataframe\">\n",
       "  <thead>\n",
       "    <tr style=\"text-align: right;\">\n",
       "      <th></th>\n",
       "      <th>R&amp;D Spend</th>\n",
       "      <th>Administration</th>\n",
       "      <th>Marketing Spend</th>\n",
       "      <th>New York</th>\n",
       "      <th>California</th>\n",
       "    </tr>\n",
       "  </thead>\n",
       "  <tbody>\n",
       "    <tr>\n",
       "      <th>1</th>\n",
       "      <td>162597.80</td>\n",
       "      <td>151377.69</td>\n",
       "      <td>443898.63</td>\n",
       "      <td>0</td>\n",
       "      <td>1</td>\n",
       "    </tr>\n",
       "    <tr>\n",
       "      <th>24</th>\n",
       "      <td>77044.11</td>\n",
       "      <td>99281.44</td>\n",
       "      <td>140574.91</td>\n",
       "      <td>1</td>\n",
       "      <td>0</td>\n",
       "    </tr>\n",
       "    <tr>\n",
       "      <th>39</th>\n",
       "      <td>38558.61</td>\n",
       "      <td>82982.19</td>\n",
       "      <td>174999.40</td>\n",
       "      <td>0</td>\n",
       "      <td>1</td>\n",
       "    </tr>\n",
       "    <tr>\n",
       "      <th>21</th>\n",
       "      <td>78389.57</td>\n",
       "      <td>153773.53</td>\n",
       "      <td>299737.39</td>\n",
       "      <td>1</td>\n",
       "      <td>0</td>\n",
       "    </tr>\n",
       "    <tr>\n",
       "      <th>41</th>\n",
       "      <td>27893.02</td>\n",
       "      <td>84710.87</td>\n",
       "      <td>164470.81</td>\n",
       "      <td>0</td>\n",
       "      <td>0</td>\n",
       "    </tr>\n",
       "  </tbody>\n",
       "</table>\n",
       "</div>"
      ],
      "text/plain": [
       "    R&D Spend  Administration  Marketing Spend  New York  California\n",
       "1   162597.80       151377.69        443898.63         0           1\n",
       "24   77044.11        99281.44        140574.91         1           0\n",
       "39   38558.61        82982.19        174999.40         0           1\n",
       "21   78389.57       153773.53        299737.39         1           0\n",
       "41   27893.02        84710.87        164470.81         0           0"
      ]
     },
     "execution_count": 239,
     "metadata": {},
     "output_type": "execute_result"
    }
   ],
   "source": [
    "df['New York'] = df.apply(lambda x: 1 if x['State'] == 'New York' else 0, axis=1)\n",
    "df['California'] = df.apply(lambda x: 1 if x['State'] =='California' else 0, axis = 1)\n",
    "df.drop(columns = 'State',axis = 1, inplace = True)\n",
    "df.sample(5)\n"
   ]
  },
  {
   "cell_type": "code",
   "execution_count": 240,
   "id": "a1b0c570-2bef-4f52-ae0b-2f4c86142563",
   "metadata": {},
   "outputs": [
    {
     "data": {
      "image/png": "[encoded data removed]",
      "text/plain": [
       "<Figure size 1000x500 with 3 Axes>"
      ]
     },
     "metadata": {},
     "output_type": "display_data"
    }
   ],
   "source": [
    "\n",
    "fig, axes = plt.subplots(1, 3, figsize=(10,5)) \n",
    "\n",
    "# First plot\n",
    "axes[0].scatter(df['R&D Spend'],y, label='R&D v Profit', color='blue')\n",
    "axes[0].set_title(\"R&D v Profit\")\n",
    "axes[0].grid(True)\n",
    "\n",
    "# Second plot\n",
    "axes[1].scatter(df['Administration'], y, label='Administration v Profit', color='red')\n",
    "axes[1].set_title(\"Administration v Profit\")\n",
    "axes[1].grid(True)\n",
    "\n",
    "\n",
    "# Second plot\n",
    "axes[2].scatter(df['Marketing Spend'], y, label='Marketing Spend v Profit', color='green')\n",
    "axes[2].set_title(\"Marketing Spend v Profit\")\n",
    "axes[2].grid(True)\n",
    "\n",
    "plt.tight_layout()  # Adjust spacing\n",
    "plt.show()"
   ]
  },
  {
   "cell_type": "code",
   "execution_count": 241,
   "id": "4a11607e-c65f-4bec-a9f4-aea26c8ef9d0",
   "metadata": {},
   "outputs": [
    {
     "name": "stdout",
     "output_type": "stream",
     "text": [
      "The shape of the independent feature are  (49, 5)\n",
      "The shape of the dependent feature are  (49, 1)\n"
     ]
    }
   ],
   "source": [
    "x = np.array(df.values)\n",
    "y = y.reshape(len(y),1)\n",
    "print(\"The shape of the independent feature are \",x.shape)\n",
    "print(\"The shape of the dependent feature are \",y.shape)"
   ]
  },
  {
   "cell_type": "code",
   "execution_count": 242,
   "id": "57f889f0-40cc-4c11-8e89-255d1a6866ce",
   "metadata": {},
   "outputs": [],
   "source": [
    "from numpy.linalg import inv \n",
    "\n",
    "def Regression_model(x, y):\n",
    "    # Get the shape of x\n",
    "    (n, p_minus_one) = x.shape\n",
    "    p = p_minus_one + 1\n",
    "    \n",
    "   \n",
    "    new_x = np.ones(shape=(n, p))\n",
    "    new_x[:, 1:] = x \n",
    "    \n",
    "  \n",
    "    coefficients = np.dot(np.dot(inv(np.dot(new_x.T, new_x)), new_x.T), y)\n",
    "    \n",
    "   \n",
    "    y_pred = np.dot(new_x, coefficients)\n",
    "\n",
    "    return coefficients, y_pred\n",
    "    \n",
    "    "
   ]
  },
  {
   "cell_type": "code",
   "execution_count": 243,
   "id": "047e7e69-c37c-4149-94e4-f210c65f3f59",
   "metadata": {},
   "outputs": [
    {
     "data": {
      "text/html": [
       "<div>\n",
       "<style scoped>\n",
       "    .dataframe tbody tr th:only-of-type {\n",
       "        vertical-align: middle;\n",
       "    }\n",
       "\n",
       "    .dataframe tbody tr th {\n",
       "        vertical-align: top;\n",
       "    }\n",
       "\n",
       "    .dataframe thead th {\n",
       "        text-align: right;\n",
       "    }\n",
       "</style>\n",
       "<table border=\"1\" class=\"dataframe\">\n",
       "  <thead>\n",
       "    <tr style=\"text-align: right;\">\n",
       "      <th></th>\n",
       "      <th>R&amp;D Spend</th>\n",
       "      <th>Administration</th>\n",
       "      <th>Marketing Spend</th>\n",
       "      <th>New York</th>\n",
       "      <th>California</th>\n",
       "      <th>Profit</th>\n",
       "      <th>y_pred</th>\n",
       "    </tr>\n",
       "  </thead>\n",
       "  <tbody>\n",
       "    <tr>\n",
       "      <th>27</th>\n",
       "      <td>72107.70</td>\n",
       "      <td>127864.65</td>\n",
       "      <td>353183.91</td>\n",
       "      <td>1</td>\n",
       "      <td>0</td>\n",
       "      <td>105008.41</td>\n",
       "      <td>114231.79</td>\n",
       "    </tr>\n",
       "    <tr>\n",
       "      <th>26</th>\n",
       "      <td>75328.97</td>\n",
       "      <td>144136.08</td>\n",
       "      <td>134050.17</td>\n",
       "      <td>0</td>\n",
       "      <td>0</td>\n",
       "      <td>105733.64</td>\n",
       "      <td>111129.11</td>\n",
       "    </tr>\n",
       "    <tr>\n",
       "      <th>20</th>\n",
       "      <td>76253.96</td>\n",
       "      <td>113867.40</td>\n",
       "      <td>298664.57</td>\n",
       "      <td>0</td>\n",
       "      <td>1</td>\n",
       "      <td>118474.13</td>\n",
       "      <td>118335.28</td>\n",
       "    </tr>\n",
       "    <tr>\n",
       "      <th>34</th>\n",
       "      <td>46426.17</td>\n",
       "      <td>157694.02</td>\n",
       "      <td>210797.77</td>\n",
       "      <td>0</td>\n",
       "      <td>1</td>\n",
       "      <td>96712.90</td>\n",
       "      <td>91728.54</td>\n",
       "    </tr>\n",
       "    <tr>\n",
       "      <th>31</th>\n",
       "      <td>61136.48</td>\n",
       "      <td>152702.02</td>\n",
       "      <td>88218.33</td>\n",
       "      <td>1</td>\n",
       "      <td>0</td>\n",
       "      <td>97483.66</td>\n",
       "      <td>98246.16</td>\n",
       "    </tr>\n",
       "  </tbody>\n",
       "</table>\n",
       "</div>"
      ],
      "text/plain": [
       "    R&D Spend  Administration  Marketing Spend  New York  California  \\\n",
       "27   72107.70       127864.65        353183.91         1           0   \n",
       "26   75328.97       144136.08        134050.17         0           0   \n",
       "20   76253.96       113867.40        298664.57         0           1   \n",
       "34   46426.17       157694.02        210797.77         0           1   \n",
       "31   61136.48       152702.02         88218.33         1           0   \n",
       "\n",
       "       Profit     y_pred  \n",
       "27  105008.41  114231.79  \n",
       "26  105733.64  111129.11  \n",
       "20  118474.13  118335.28  \n",
       "34   96712.90   91728.54  \n",
       "31   97483.66   98246.16  "
      ]
     },
     "execution_count": 243,
     "metadata": {},
     "output_type": "execute_result"
    }
   ],
   "source": [
    "coeff, profit_pred = Regression_model(df, y)\n",
    "profit_pred = profit_pred.round(2)\n",
    "x = df.copy()\n",
    "x['Profit'] = y\n",
    "x['y_pred'] = profit_pred\n",
    "x.sample(5)\n",
    "\n"
   ]
  },
  {
   "cell_type": "code",
   "execution_count": null,
   "id": "c75a63b0-035e-4721-bf5c-0ceadc4574fe",
   "metadata": {},
   "outputs": [],
   "source": []
  },
  {
   "cell_type": "markdown",
   "id": "313ff8d4-f641-4aa4-94cc-cdeab1eb2f0a",
   "metadata": {},
   "source": [
    "# *Using sklearn*"
   ]
  },
  {
   "cell_type": "code",
   "execution_count": 244,
   "id": "6c27fa15-7806-44b5-ac27-ab4bfc165b09",
   "metadata": {},
   "outputs": [
    {
     "data": {
      "text/html": [
       "<div>\n",
       "<style scoped>\n",
       "    .dataframe tbody tr th:only-of-type {\n",
       "        vertical-align: middle;\n",
       "    }\n",
       "\n",
       "    .dataframe tbody tr th {\n",
       "        vertical-align: top;\n",
       "    }\n",
       "\n",
       "    .dataframe thead th {\n",
       "        text-align: right;\n",
       "    }\n",
       "</style>\n",
       "<table border=\"1\" class=\"dataframe\">\n",
       "  <thead>\n",
       "    <tr style=\"text-align: right;\">\n",
       "      <th></th>\n",
       "      <th>R&amp;D Spend</th>\n",
       "      <th>Administration</th>\n",
       "      <th>Marketing Spend</th>\n",
       "      <th>New York</th>\n",
       "      <th>California</th>\n",
       "      <th>Profit</th>\n",
       "      <th>y_pred</th>\n",
       "      <th>y_pred_sklearn</th>\n",
       "    </tr>\n",
       "  </thead>\n",
       "  <tbody>\n",
       "    <tr>\n",
       "      <th>0</th>\n",
       "      <td>165349.30</td>\n",
       "      <td>136897.90</td>\n",
       "      <td>471784.20</td>\n",
       "      <td>1</td>\n",
       "      <td>0</td>\n",
       "      <td>192261.93</td>\n",
       "      <td>190158.39</td>\n",
       "      <td>190158.39</td>\n",
       "    </tr>\n",
       "    <tr>\n",
       "      <th>1</th>\n",
       "      <td>162597.80</td>\n",
       "      <td>151377.69</td>\n",
       "      <td>443898.63</td>\n",
       "      <td>0</td>\n",
       "      <td>1</td>\n",
       "      <td>191792.16</td>\n",
       "      <td>188917.44</td>\n",
       "      <td>188917.44</td>\n",
       "    </tr>\n",
       "    <tr>\n",
       "      <th>2</th>\n",
       "      <td>153441.61</td>\n",
       "      <td>101145.65</td>\n",
       "      <td>407934.64</td>\n",
       "      <td>0</td>\n",
       "      <td>0</td>\n",
       "      <td>191050.49</td>\n",
       "      <td>180356.12</td>\n",
       "      <td>180356.12</td>\n",
       "    </tr>\n",
       "    <tr>\n",
       "      <th>3</th>\n",
       "      <td>144372.51</td>\n",
       "      <td>118671.95</td>\n",
       "      <td>383199.72</td>\n",
       "      <td>1</td>\n",
       "      <td>0</td>\n",
       "      <td>182902.09</td>\n",
       "      <td>171835.22</td>\n",
       "      <td>171835.22</td>\n",
       "    </tr>\n",
       "    <tr>\n",
       "      <th>4</th>\n",
       "      <td>142107.44</td>\n",
       "      <td>91391.87</td>\n",
       "      <td>366168.52</td>\n",
       "      <td>0</td>\n",
       "      <td>0</td>\n",
       "      <td>166188.04</td>\n",
       "      <td>170611.14</td>\n",
       "      <td>170611.14</td>\n",
       "    </tr>\n",
       "  </tbody>\n",
       "</table>\n",
       "</div>"
      ],
      "text/plain": [
       "   R&D Spend  Administration  Marketing Spend  New York  California  \\\n",
       "0  165349.30       136897.90        471784.20         1           0   \n",
       "1  162597.80       151377.69        443898.63         0           1   \n",
       "2  153441.61       101145.65        407934.64         0           0   \n",
       "3  144372.51       118671.95        383199.72         1           0   \n",
       "4  142107.44        91391.87        366168.52         0           0   \n",
       "\n",
       "      Profit     y_pred  y_pred_sklearn  \n",
       "0  192261.93  190158.39       190158.39  \n",
       "1  191792.16  188917.44       188917.44  \n",
       "2  191050.49  180356.12       180356.12  \n",
       "3  182902.09  171835.22       171835.22  \n",
       "4  166188.04  170611.14       170611.14  "
      ]
     },
     "execution_count": 244,
     "metadata": {},
     "output_type": "execute_result"
    }
   ],
   "source": [
    "from sklearn.linear_model import LinearRegression\n",
    "\n",
    "model = LinearRegression()\n",
    "model.fit(df, y)\n",
    "y_pred_sklearn = model_2.predict(df)\n",
    "rounded_y_pred_sklearn = np.round(y_pred_sklearn, 2)\n",
    "\n",
    "x['y_pred_sklearn'] = rounded_y_pred_sklearn\n",
    "x.head()\n",
    "\n"
   ]
  },
  {
   "cell_type": "markdown",
   "id": "ed48a74d-f37d-4dce-965a-45d569ad6e7c",
   "metadata": {},
   "source": [
    "# Predicting Profit"
   ]
  },
  {
   "cell_type": "code",
   "execution_count": 246,
   "id": "e220510a-fab1-4342-a9d6-74551099a0b1",
   "metadata": {},
   "outputs": [],
   "source": [
    "def predict_profit(coefficients, x_new):\n",
    "    \n",
    "    \n",
    "    x_new_with_intercept = np.concatenate(([1], x_new)) \n",
    "    profit_pred = np.dot(x_new_with_intercept, coefficients)  \n",
    "    return profit_pred"
   ]
  },
  {
   "cell_type": "code",
   "execution_count": null,
   "id": "463b5bb8-c446-4dcf-a5f9-5fe488259902",
   "metadata": {},
   "outputs": [],
   "source": [
    "spending_values = []\n",
    "for i in range(5):\n",
    "    spend = float(input(\"Enter value\"))\n",
    "    spending_values.append(spend)  \n",
    "\n",
    "predicted_value = predict_profit(coeff, spending_values)\n",
    "print(f\"The predicted profit is {predicted_value}\")"
   ]
  }
 ],
 "metadata": {
  "kernelspec": {
   "display_name": "Python 3 (ipykernel)",
   "language": "python",
   "name": "python3"
  },
  "language_info": {
   "codemirror_mode": {
    "name": "ipython",
    "version": 3
   },
   "file_extension": ".py",
   "mimetype": "text/x-python",
   "name": "python",
   "nbconvert_exporter": "python",
   "pygments_lexer": "ipython3",
   "version": "3.10.6"
  }
 },
 "nbformat": 4,
 "nbformat_minor": 5
}
